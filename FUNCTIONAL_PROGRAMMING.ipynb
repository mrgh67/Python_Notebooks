{
 "metadata": {
  "name": "",
  "signature": "sha256:4949334c7413656120990a70ab3d7f6cdc9e81da667911cdacaaf0b4a0cbecad"
 },
 "nbformat": 3,
 "nbformat_minor": 0,
 "worksheets": [
  {
   "cells": [
    {
     "cell_type": "markdown",
     "metadata": {},
     "source": [
      "###If a function uses the yield keyword, it defines an object known as a generator. A generator is a function that produces a sequence of values for use in iteration."
     ]
    },
    {
     "cell_type": "code",
     "collapsed": false,
     "input": [
      "def countdown(n):\n",
      "    print \"Counting down from %d\" % (n)\n",
      "    while n>0:\n",
      "        yield n\n",
      "        n -= 1\n",
      "    return"
     ],
     "language": "python",
     "metadata": {},
     "outputs": [],
     "prompt_number": 54
    },
    {
     "cell_type": "code",
     "collapsed": false,
     "input": [
      "c = countdown(10)"
     ],
     "language": "python",
     "metadata": {},
     "outputs": [],
     "prompt_number": 21
    },
    {
     "cell_type": "code",
     "collapsed": false,
     "input": [
      "for i in c:\n",
      "    print i"
     ],
     "language": "python",
     "metadata": {},
     "outputs": [
      {
       "output_type": "stream",
       "stream": "stdout",
       "text": [
        "6\n",
        "5\n",
        "4\n",
        "3\n",
        "2\n",
        "1\n"
       ]
      }
     ],
     "prompt_number": 26
    },
    {
     "cell_type": "code",
     "collapsed": false,
     "input": [
      "c.next()"
     ],
     "language": "python",
     "metadata": {},
     "outputs": [
      {
       "metadata": {},
       "output_type": "pyout",
       "prompt_number": 25,
       "text": [
        "7"
       ]
      }
     ],
     "prompt_number": 25
    },
    {
     "cell_type": "code",
     "collapsed": false,
     "input": [
      "countdownlist = list(countdown(20))"
     ],
     "language": "python",
     "metadata": {},
     "outputs": [
      {
       "output_type": "stream",
       "stream": "stdout",
       "text": [
        "Counting down from 20\n"
       ]
      }
     ],
     "prompt_number": 56
    },
    {
     "cell_type": "code",
     "collapsed": false,
     "input": [
      "print countdownlist"
     ],
     "language": "python",
     "metadata": {},
     "outputs": [
      {
       "output_type": "stream",
       "stream": "stdout",
       "text": [
        "[20, 19, 18, 17, 16, 15, 14, 13, 12, 11, 10, 9, 8, 7, 6, 5, 4, 3, 2, 1]\n"
       ]
      }
     ],
     "prompt_number": 57
    },
    {
     "cell_type": "code",
     "collapsed": false,
     "input": [
      "def receiver_i():\n",
      "    print (\"Ready to receive\")\n",
      "    while True:\n",
      "        n = (yield)\n",
      "        print (\"Got %s\" % n)"
     ],
     "language": "python",
     "metadata": {},
     "outputs": [],
     "prompt_number": 9
    },
    {
     "cell_type": "code",
     "collapsed": false,
     "input": [
      "r1 = receiver_i()"
     ],
     "language": "python",
     "metadata": {},
     "outputs": [],
     "prompt_number": 10
    },
    {
     "cell_type": "code",
     "collapsed": false,
     "input": [
      "r1.next()"
     ],
     "language": "python",
     "metadata": {},
     "outputs": [
      {
       "output_type": "stream",
       "stream": "stdout",
       "text": [
        "Ready to receive\n"
       ]
      }
     ],
     "prompt_number": 11
    },
    {
     "cell_type": "code",
     "collapsed": false,
     "input": [
      "r1.send(\"Hello World\")"
     ],
     "language": "python",
     "metadata": {},
     "outputs": [
      {
       "output_type": "stream",
       "stream": "stdout",
       "text": [
        "Got Hello World\n"
       ]
      }
     ],
     "prompt_number": 13
    },
    {
     "cell_type": "markdown",
     "metadata": {},
     "source": [
      "###Coroutine"
     ]
    },
    {
     "cell_type": "code",
     "collapsed": false,
     "input": [
      "def coroutine(func):\n",
      "    def start(*args, **kwargs):\n",
      "        g = func(*args, **kwargs)\n",
      "        g.next()\n",
      "        return g\n",
      "    return start"
     ],
     "language": "python",
     "metadata": {},
     "outputs": [],
     "prompt_number": 2
    },
    {
     "cell_type": "markdown",
     "metadata": {},
     "source": [
      "###Decorator"
     ]
    },
    {
     "cell_type": "code",
     "collapsed": false,
     "input": [
      "@coroutine\n",
      "def receiver():\n",
      "    print (\"Ready to receive\")\n",
      "    while True:\n",
      "        n = (yield) # A yield on the RHS makes it a coroutine\n",
      "        print (\"Got %s\" % n)\n",
      "        \n",
      "#this is the same as recevier = coroutine(receiver)"
     ],
     "language": "python",
     "metadata": {},
     "outputs": [],
     "prompt_number": 3
    },
    {
     "cell_type": "code",
     "collapsed": false,
     "input": [
      "r=receiver() #No need to call r.next() - because of the coroutine"
     ],
     "language": "python",
     "metadata": {},
     "outputs": [
      {
       "output_type": "stream",
       "stream": "stdout",
       "text": [
        "Ready to receive\n"
       ]
      }
     ],
     "prompt_number": 14
    },
    {
     "cell_type": "code",
     "collapsed": false,
     "input": [
      "r.send(\"Hello World\")\n",
      "r.send(4)\n",
      "r.send(\"I am not sure how this works\")\n",
      "#r.close()\n",
      "r.send(9)"
     ],
     "language": "python",
     "metadata": {},
     "outputs": [
      {
       "output_type": "stream",
       "stream": "stdout",
       "text": [
        "Got Hello World\n",
        "Got 4\n",
        "Got I am not sure how this works\n",
        "Got 9\n"
       ]
      }
     ],
     "prompt_number": 5
    },
    {
     "cell_type": "code",
     "collapsed": false,
     "input": [
      "enable_tracing = True\n",
      "if enable_tracing:\n",
      "    print (\"opening log\")\n",
      "    \n",
      "def trace(func):\n",
      "    if enable_tracing:\n",
      "        def callf(*args, **kwargs):\n",
      "            print (\"Calling %s: %s, %s\\n\" % (func.__name__, args, kwargs))\n",
      "            r = func(*args, **kwargs)\n",
      "            print (\"%s returned %s\\n\" %(func.__name__, r))\n",
      "            return r\n",
      "        return callf\n",
      "    else:\n",
      "        return func"
     ],
     "language": "python",
     "metadata": {},
     "outputs": [
      {
       "output_type": "stream",
       "stream": "stdout",
       "text": [
        "opening log\n"
       ]
      }
     ],
     "prompt_number": 24
    },
    {
     "cell_type": "code",
     "collapsed": false,
     "input": [
      "@trace\n",
      "def square(x):\n",
      "    return x*x\n",
      "\n",
      "#is equivalent to\n",
      "\n",
      "#def square(x):\n",
      "#    return x*x\n",
      "#square = trace(square)"
     ],
     "language": "python",
     "metadata": {},
     "outputs": [],
     "prompt_number": 25
    },
    {
     "cell_type": "code",
     "collapsed": false,
     "input": [
      "square(3)"
     ],
     "language": "python",
     "metadata": {},
     "outputs": [
      {
       "output_type": "stream",
       "stream": "stdout",
       "text": [
        "Calling square: (3,), {}\n",
        "\n",
        "square returned 9\n",
        "\n"
       ]
      },
      {
       "metadata": {},
       "output_type": "pyout",
       "prompt_number": 26,
       "text": [
        "9"
       ]
      }
     ],
     "prompt_number": 26
    },
    {
     "cell_type": "markdown",
     "metadata": {},
     "source": [
      "###@foo\n",
      "###@bar\n",
      "###@spam\n",
      "###def grok(x):\n",
      "###    pass\n",
      "###or grok = foo(bar(spam(grok)))"
     ]
    },
    {
     "cell_type": "markdown",
     "metadata": {},
     "source": [
      "###List Comprehensions"
     ]
    },
    {
     "cell_type": "code",
     "collapsed": false,
     "input": [
      "nums = [1,2,3,4,5]"
     ],
     "language": "python",
     "metadata": {},
     "outputs": [],
     "prompt_number": 44
    },
    {
     "cell_type": "code",
     "collapsed": false,
     "input": [
      "squares = []\n",
      "for n in nums:\n",
      "    squares.append(n * n)\n",
      "print squares"
     ],
     "language": "python",
     "metadata": {},
     "outputs": [
      {
       "output_type": "stream",
       "stream": "stdout",
       "text": [
        "[1, 4, 9, 16, 25]\n"
       ]
      }
     ],
     "prompt_number": 30
    },
    {
     "cell_type": "code",
     "collapsed": false,
     "input": [
      "squares = [n * n for n in nums if n > 0 \n",
      "        for n in nums if n == 5 ]"
     ],
     "language": "python",
     "metadata": {},
     "outputs": [],
     "prompt_number": 47
    },
    {
     "cell_type": "code",
     "collapsed": false,
     "input": [
      "print squares"
     ],
     "language": "python",
     "metadata": {},
     "outputs": [
      {
       "output_type": "stream",
       "stream": "stdout",
       "text": [
        "[25, 25, 25, 25, 25]\n"
       ]
      }
     ],
     "prompt_number": 48
    },
    {
     "cell_type": "markdown",
     "metadata": {},
     "source": [
      "###General syntax:\n",
      "\n",
      "[expression for item1 in iterable1 if condition1\n",
      "for item2 in iterable2 if condition2\n",
      "...\n",
      "for itemN in iterableN if conditionN]\n",
      "\n",
      "EQUIVALENT TO \n",
      "\n",
      "s = []\n",
      "for item1 in iterable1:\n",
      "    if condition1:\n",
      "        for item2 in iterable2:\n",
      "            if condition2:\n",
      "                ...\n",
      "                    for itemN in iterableN:\n",
      "                        if conditionN:\n",
      "                            s.append(expression)"
     ]
    },
    {
     "cell_type": "markdown",
     "metadata": {},
     "source": [
      "###Generator Expressions"
     ]
    },
    {
     "cell_type": "markdown",
     "metadata": {},
     "source": [
      "###Same as a list comprehension but iteratively carries out the result"
     ]
    },
    {
     "cell_type": "code",
     "collapsed": false,
     "input": [
      "squares1 = (n * n for n in nums if n > 0 \n",
      "        for n in nums if n == 5 )"
     ],
     "language": "python",
     "metadata": {},
     "outputs": [],
     "prompt_number": 52
    },
    {
     "cell_type": "code",
     "collapsed": false,
     "input": [
      "for i in squares1:\n",
      "    print i"
     ],
     "language": "python",
     "metadata": {},
     "outputs": [
      {
       "output_type": "stream",
       "stream": "stdout",
       "text": [
        "25\n",
        "25\n",
        "25\n",
        "25\n",
        "25\n"
       ]
      }
     ],
     "prompt_number": 51
    },
    {
     "cell_type": "code",
     "collapsed": false,
     "input": [
      "squares1.next()"
     ],
     "language": "python",
     "metadata": {},
     "outputs": [
      {
       "metadata": {},
       "output_type": "pyout",
       "prompt_number": 53,
       "text": [
        "25"
       ]
      }
     ],
     "prompt_number": 53
    },
    {
     "cell_type": "markdown",
     "metadata": {},
     "source": [
      "###Anonymous Functions"
     ]
    },
    {
     "cell_type": "code",
     "collapsed": false,
     "input": [
      "a = lambda x,y : x + y"
     ],
     "language": "python",
     "metadata": {},
     "outputs": [],
     "prompt_number": 58
    },
    {
     "cell_type": "code",
     "collapsed": false,
     "input": [
      "r = a(2,3)"
     ],
     "language": "python",
     "metadata": {},
     "outputs": [],
     "prompt_number": 59
    },
    {
     "cell_type": "code",
     "collapsed": false,
     "input": [
      "print r"
     ],
     "language": "python",
     "metadata": {},
     "outputs": [
      {
       "output_type": "stream",
       "stream": "stdout",
       "text": [
        "5\n"
       ]
      }
     ],
     "prompt_number": 60
    },
    {
     "cell_type": "markdown",
     "metadata": {},
     "source": [
      "###Recursion"
     ]
    },
    {
     "cell_type": "markdown",
     "metadata": {},
     "source": [
      "###Document Strings"
     ]
    },
    {
     "cell_type": "code",
     "collapsed": false,
     "input": [
      "def printWord(w):\n",
      "    \"\"\"Prints a word. For example:\n",
      "    \n",
      "    >>> printWord(\"hello\")\n",
      "    \"hello\"\n",
      "    >>>\n",
      "\"\"\""
     ],
     "language": "python",
     "metadata": {},
     "outputs": [],
     "prompt_number": 61
    },
    {
     "cell_type": "code",
     "collapsed": false,
     "input": [
      "help(printWord)"
     ],
     "language": "python",
     "metadata": {},
     "outputs": [
      {
       "output_type": "stream",
       "stream": "stdout",
       "text": [
        "Help on function printWord in module __main__:\n",
        "\n",
        "printWord(w)\n",
        "    Prints a word. For example:\n",
        "    \n",
        "    >>> printWord(\"hello\")\n",
        "    \"hello\"\n",
        "    >>>\n",
        "\n"
       ]
      }
     ],
     "prompt_number": 62
    },
    {
     "cell_type": "markdown",
     "metadata": {},
     "source": [
      "###Function Attributes"
     ]
    },
    {
     "cell_type": "code",
     "collapsed": false,
     "input": [
      "printWord.secure = 1"
     ],
     "language": "python",
     "metadata": {},
     "outputs": [],
     "prompt_number": 64
    },
    {
     "cell_type": "code",
     "collapsed": false,
     "input": [
      "printWord.private = 1"
     ],
     "language": "python",
     "metadata": {},
     "outputs": [],
     "prompt_number": 65
    },
    {
     "cell_type": "code",
     "collapsed": false,
     "input": [
      "printWord.__dict__"
     ],
     "language": "python",
     "metadata": {},
     "outputs": [
      {
       "metadata": {},
       "output_type": "pyout",
       "prompt_number": 66,
       "text": [
        "{'private': 1, 'secure': 1}"
       ]
      }
     ],
     "prompt_number": 66
    }
   ],
   "metadata": {}
  }
 ]
}